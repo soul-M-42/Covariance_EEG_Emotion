{
 "cells": [
  {
   "cell_type": "markdown",
   "metadata": {},
   "source": [
    "ERROR: Unexpected bus error encountered in worker. This might be caused by insufficient shared memory (shm).\n",
    "RuntimeError: DataLoader worker (pid 2201578) is killed by signal: Bus error. It is possible that dataloader's workers are out of shared memory. Please try to raise your shared memory limit.\n",
    "\n",
    "Solution1: 直接把Dataloader的num_workers改为0，解决"
   ]
  },
  {
   "cell_type": "markdown",
   "metadata": {},
   "source": []
  }
 ],
 "metadata": {
  "language_info": {
   "name": "python"
  }
 },
 "nbformat": 4,
 "nbformat_minor": 2
}
