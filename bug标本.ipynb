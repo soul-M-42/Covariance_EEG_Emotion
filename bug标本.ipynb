{
 "cells": [
  {
   "cell_type": "markdown",
   "metadata": {},
   "source": [
    "1.\n",
    "ERROR: Unexpected bus error encountered in worker. This might be caused by insufficient shared memory (shm).\n",
    "RuntimeError: DataLoader worker (pid 2201578) is killed by signal: Bus error. It is possible that dataloader's workers are out of shared memory. Please try to raise your shared memory limit.\n",
    "\n",
    "Solution1: 直接把Dataloader的num_workers改为0，解决"
   ]
  },
  {
   "cell_type": "markdown",
   "metadata": {},
   "source": [
    "2.\n",
    "CondaError: Run 'conda init' before 'conda activate'\n",
    "\n",
    "Solution: 先在terminal运行source activate base"
   ]
  },
  {
   "cell_type": "markdown",
   "metadata": {},
   "source": [
    "3.\n",
    "在运行了数个Epoch后（而非一开始加载模型时）才out of memory:\n",
    "\n",
    "### CUDA显存泄露\n",
    "\n",
    "可能原因：\n",
    "\n",
    "1.存在被计算但并未backward的loss，导致这些部分计算图没能自动回收。\n",
    "\n",
    "solution：在计算这部分loss时，使用data.detach()代替data"
   ]
  },
  {
   "cell_type": "markdown",
   "metadata": {},
   "source": []
  }
 ],
 "metadata": {
  "language_info": {
   "name": "python"
  }
 },
 "nbformat": 4,
 "nbformat_minor": 2
}
