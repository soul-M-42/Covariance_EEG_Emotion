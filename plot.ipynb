{
 "cells": [
  {
   "cell_type": "code",
   "execution_count": 1,
   "metadata": {},
   "outputs": [],
   "source": [
    "import matplotlib.pyplot as plt"
   ]
  },
  {
   "cell_type": "code",
   "execution_count": null,
   "metadata": {},
   "outputs": [],
   "source": [
    "19.70\n",
    "22.20\n",
    "22.80\n",
    "25.00\n",
    "22.90\n",
    "21.70\n",
    "19.90\n",
    "21.40\n",
    "21.00"
   ]
  },
  {
   "cell_type": "markdown",
   "metadata": {},
   "source": [
    "Dual No CDA\n",
    "Faced 22.21 std 1.45\n",
    "chance 14.30"
   ]
  },
  {
   "cell_type": "markdown",
   "metadata": {},
   "source": [
    "SEED_V No CDA 5 class\n",
    "\n",
    "chance 20"
   ]
  },
  {
   "cell_type": "code",
   "execution_count": 5,
   "metadata": {},
   "outputs": [
    {
     "name": "stdout",
     "output_type": "stream",
     "text": [
      "35.26403546333313±2.916800779182613\n"
     ]
    }
   ],
   "source": [
    "acc_noalign = [38.47960662841797,\n",
    "38.731971740722656,\n",
    "35.08726119995117,\n",
    "33.77593994140625,\n",
    "30.231203079223633,\n",
    "37.80696105957031,\n",
    "31.94339370727539,\n",
    "36.055946350097656]\n",
    "import numpy as np\n",
    "acc_mean_noalign = np.mean(acc_noalign)\n",
    "acc_std_noalign = np.std(acc_noalign)\n",
    "print(f'{acc_mean_noalign}±{acc_std_noalign}')"
   ]
  },
  {
   "cell_type": "code",
   "execution_count": 1,
   "metadata": {},
   "outputs": [
    {
     "name": "stdout",
     "output_type": "stream",
     "text": [
      "36.284651041030884±2.1990436196839864\n"
     ]
    }
   ],
   "source": [
    "acc_align = [37.29155731201172,\n",
    "38.833885192871094,\n",
    "34.59320831298828,\n",
    "36.66550064086914,\n",
    "31.53864097595215,\n",
    "38.607730865478516,\n",
    "36.03362274169922,\n",
    "36.71306228637695]\n",
    "import numpy as np\n",
    "acc_mean_align = np.mean(acc_align)\n",
    "acc_std_align = np.std(acc_align)\n",
    "print(f'{acc_mean_align}±{acc_std_align}')"
   ]
  },
  {
   "cell_type": "markdown",
   "metadata": {},
   "source": [
    "### train 9 val 1 loo:\n",
    "\n",
    "pretrain me: 49.21±8.12\n",
    "\n",
    "DE: 57.72±14.24\n"
   ]
  },
  {
   "cell_type": "markdown",
   "metadata": {},
   "source": []
  },
  {
   "cell_type": "markdown",
   "metadata": {},
   "source": [
    "### small group finetune 4=1:3\n",
    "\n",
    "pre model me: 46.33±3.21\n",
    "\n",
    "finetuned: 47.88±3.20\n",
    "\n",
    "DE：44.01±4.55\n",
    "\n",
    "### small group finetune 8=1:7\n",
    "\n",
    "pre model me: 42.35±2.14\n",
    "\n",
    "finetuned: 38.92±4.35\n",
    "\n",
    "DE：40.53±3.81\n",
    "\n"
   ]
  },
  {
   "cell_type": "markdown",
   "metadata": {},
   "source": [
    "用更少样本微调（1:7）时，验证集上协方差对齐损失下降更快"
   ]
  },
  {
   "cell_type": "markdown",
   "metadata": {},
   "source": []
  },
  {
   "cell_type": "markdown",
   "metadata": {},
   "source": [
    "### 被试内迁移(无lds)\n",
    "\n",
    "2:8\n",
    "\n",
    "DE: 68.04±8.02\n",
    "\n",
    "pre model me: 45.30±4.78\n",
    "\n",
    "finetuned: \n",
    "\n",
    "8:2\n",
    "\n",
    "DE: 79.58±8.65\n",
    "\n",
    "pre model me: 60.00±7.48"
   ]
  },
  {
   "cell_type": "markdown",
   "metadata": {},
   "source": []
  }
 ],
 "metadata": {
  "kernelspec": {
   "display_name": "torch",
   "language": "python",
   "name": "python3"
  },
  "language_info": {
   "codemirror_mode": {
    "name": "ipython",
    "version": 3
   },
   "file_extension": ".py",
   "mimetype": "text/x-python",
   "name": "python",
   "nbconvert_exporter": "python",
   "pygments_lexer": "ipython3",
   "version": "3.12.3"
  }
 },
 "nbformat": 4,
 "nbformat_minor": 2
}
