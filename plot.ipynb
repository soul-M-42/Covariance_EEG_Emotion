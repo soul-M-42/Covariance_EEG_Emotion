{
 "cells": [
  {
   "cell_type": "code",
   "execution_count": 1,
   "metadata": {},
   "outputs": [],
   "source": [
    "import matplotlib.pyplot as plt"
   ]
  },
  {
   "cell_type": "code",
   "execution_count": 2,
   "metadata": {},
   "outputs": [
    {
     "name": "stdout",
     "output_type": "stream",
     "text": [
      "nsy_0814_PointProjectRim_Dual_MMLA_log_timeLen=5_CDA=False_Riem=False/0/nsy_0814_PointProjectRim_Dual_MMLA_log_timeLen=5_CDA=False_Riem=False/version_0\n",
      "没有找到匹配的TensorBoard日志文件\n"
     ]
    }
   ],
   "source": [
    "import os\n",
    "import numpy as np\n",
    "import matplotlib.pyplot as plt\n",
    "from tensorboard.backend.event_processing.event_accumulator import EventAccumulator\n",
    "\n",
    "def find_event_file(log_dir):\n",
    "    \"\"\"\n",
    "    查找指定文件夹和fold index下的event文件\n",
    "    \"\"\"\n",
    "    for root, dirs, files in os.walk(log_dir):\n",
    "        for file in files:\n",
    "            if file.startswith(\"events.out.tfevents\"):\n",
    "                return os.path.join(root, file)\n",
    "    raise FileNotFoundError(\"没有找到匹配的TensorBoard日志文件\")\n",
    "\n",
    "def extract_tensorboard_data(event_file, key):\n",
    "    # 加载TensorBoard日志文件\n",
    "    event_acc = EventAccumulator(event_file)\n",
    "    event_acc.Reload()\n",
    "\n",
    "    # 检查 key 是否存在\n",
    "    print(event_acc.Tags()['scalars'])\n",
    "    if key not in event_acc.Tags()['scalars']:\n",
    "        raise KeyError(f\"The specified key '{key}' was not found in the TensorBoard logs.\")\n",
    "\n",
    "    # 提取指定 key 的值\n",
    "    events = event_acc.Scalars(key)\n",
    "    steps = np.array([e.step for e in events])\n",
    "    values = np.array([e.value for e in events])\n",
    "\n",
    "    return steps, values\n",
    "\n",
    "\n",
    "def plot_data(steps, values, labels, title='test title', dash=0.0, ylabel='ylabel'):\n",
    "    \"\"\"\n",
    "    绘制多条曲线在同一张图上\n",
    "\n",
    "    :param steps: ndarray, x轴数据\n",
    "    :param values: list of ndarray, 每个ndarray表示一条曲线的y轴数据\n",
    "    :param labels: list of str, 每条曲线的标签\n",
    "    :param title: str, 图表标题\n",
    "    \"\"\"\n",
    "    plt.figure()\n",
    "    for i, value in enumerate(values):\n",
    "        plt.plot(steps, value, label=labels[i])\n",
    "    plt.axhline(y=dash, color='r', linestyle='--', label=f'chance level={dash}')\n",
    "    plt.xlabel('Steps')\n",
    "    plt.ylabel(ylabel)\n",
    "    plt.title(title)\n",
    "    plt.legend()\n",
    "    plt.show()\n",
    "\n",
    "metric_name = [None, 'acc_1', 'acc_2']\n",
    "num_class = [None, 5, 9]\n",
    "dataset_name = 1\n",
    "metric_name = metric_name[dataset_name]\n",
    "num_class = num_class[dataset_name]\n",
    "# 1 for SEED_V, 2 for Faced\n",
    "chance_level = 1.0 / num_class\n",
    "\n",
    "\n",
    "# 指定路径和 key\n",
    "log_dir = 'log'  # 修改为你的TensorBoard日志文件路径\n",
    "log_name = 'Dual_MMLA_log_timeLen=5_CDA=False_Riem=False_patchSize=30_patchStride=5_hidden_dim=30_out_dim=10_channelUni=30_wd=0.0001_alignFactor=0.1'\n",
    "fold = 0\n",
    "version = 0\n",
    "fold_index = f'{log_name}/{fold}/{log_name}/version_{version}'  # 修改为你需要的fold index\n",
    "key = f'{metric_name}/train'  # 修改为你感兴趣的key\n",
    "print(fold_index)\n",
    "\n",
    "try:\n",
    "    event_file = find_event_file(os.path.join(log_dir, fold_index))\n",
    "    steps, acc_1_no_encoder = extract_tensorboard_data(event_file, key)\n",
    "except (FileNotFoundError, KeyError) as e:\n",
    "    print(e)\n"
   ]
  },
  {
   "cell_type": "code",
   "execution_count": 3,
   "metadata": {},
   "outputs": [
    {
     "name": "stdout",
     "output_type": "stream",
     "text": [
      "Dual_MMLA_Riem=False_patchSize=30_patchStride=5_hidden_dim=15_out_dim=3_wd=0.00015_alignFactor=0.0/0/Dual_MMLA_Riem=False_patchSize=30_patchStride=5_hidden_dim=15_out_dim=3_wd=0.00015_alignFactor=0.0/version_0\n",
      "['loss_class_1/val', 'loss_class_2/val', 'loss_align/val', 'acc_1/val', 'acc_2/val', 'lr/val', 'epoch', 'loss_class_1/train', 'loss_class_2/train', 'loss_align/train', 'acc_1/train', 'acc_2/train', 'lr']\n"
     ]
    }
   ],
   "source": [
    "log_dir = 'log'  # 修改为你的TensorBoard日志文件路径\n",
    "log_name = 'Dual_MMLA_Riem=False_patchSize=30_patchStride=5_hidden_dim=15_out_dim=3_wd=0.00015_alignFactor=0.0'\n",
    "# fold = 0\n",
    "version = 0\n",
    "fold_index = f'{log_name}/{fold}/{log_name}/version_{version}'  # 修改为你需要的fold index\n",
    "print(fold_index)\n",
    "\n",
    "try:\n",
    "    event_file = find_event_file(os.path.join(log_dir, fold_index))\n",
    "    steps, acc_1_encoder = extract_tensorboard_data(event_file, key)\n",
    "except (FileNotFoundError, KeyError) as e:\n",
    "    print(e)"
   ]
  },
  {
   "cell_type": "code",
   "execution_count": 4,
   "metadata": {},
   "outputs": [
    {
     "data": {
      "text/plain": [
       "array([0.34030229, 0.43864799, 0.48401237, 0.51521403, 0.53423655,\n",
       "       0.55153328, 0.56660849, 0.582973  , 0.591066  , 0.60175747,\n",
       "       0.61000913, 0.61381757, 0.62466776, 0.62915063, 0.63593447,\n",
       "       0.64285713, 0.64660609, 0.65251714, 0.6557107 , 0.65979689,\n",
       "       0.66406155, 0.67032969, 0.67338437, 0.67733169, 0.68034673,\n",
       "       0.68294519, 0.68681318, 0.69030428, 0.69222838, 0.69528306])"
      ]
     },
     "execution_count": 4,
     "metadata": {},
     "output_type": "execute_result"
    }
   ],
   "source": [
    "acc_1_encoder"
   ]
  },
  {
   "cell_type": "code",
   "execution_count": 5,
   "metadata": {},
   "outputs": [
    {
     "ename": "NameError",
     "evalue": "name 'acc_1_no_encoder' is not defined",
     "output_type": "error",
     "traceback": [
      "\u001b[0;31m---------------------------------------------------------------------------\u001b[0m",
      "\u001b[0;31mNameError\u001b[0m                                 Traceback (most recent call last)",
      "Cell \u001b[0;32mIn[5], line 1\u001b[0m\n\u001b[0;32m----> 1\u001b[0m acc_1_no_encoder\n",
      "\u001b[0;31mNameError\u001b[0m: name 'acc_1_no_encoder' is not defined"
     ]
    }
   ],
   "source": [
    "acc_1_no_encoder"
   ]
  },
  {
   "cell_type": "code",
   "execution_count": null,
   "metadata": {},
   "outputs": [
    {
     "ename": "ValueError",
     "evalue": "x and y must have same first dimension, but have shapes (30,) and (27,)",
     "output_type": "error",
     "traceback": [
      "\u001b[0;31m---------------------------------------------------------------------------\u001b[0m",
      "\u001b[0;31mValueError\u001b[0m                                Traceback (most recent call last)",
      "Cell \u001b[0;32mIn[6], line 1\u001b[0m\n\u001b[0;32m----> 1\u001b[0m plot_data(steps,\n\u001b[1;32m      2\u001b[0m  [acc_1_encoder,\n\u001b[1;32m      3\u001b[0m   acc_1_no_encoder],\n\u001b[1;32m      4\u001b[0m [\u001b[38;5;124m'\u001b[39m\u001b[38;5;124mw/ encoder param=2.2M\u001b[39m\u001b[38;5;124m'\u001b[39m, \u001b[38;5;124m'\u001b[39m\u001b[38;5;124mw/o encoder param=0.1M\u001b[39m\u001b[38;5;124m'\u001b[39m],\n\u001b[1;32m      5\u001b[0m  \u001b[38;5;124mf\u001b[39m\u001b[38;5;124m'\u001b[39m\u001b[38;5;124mchannel_wise encoder (fold \u001b[39m\u001b[38;5;132;01m{\u001b[39;00mfold\u001b[38;5;132;01m}\u001b[39;00m\u001b[38;5;124m)\u001b[39m\u001b[38;5;124m'\u001b[39m,\n\u001b[1;32m      6\u001b[0m  dash\u001b[38;5;241m=\u001b[39mchance_level,\n\u001b[1;32m      7\u001b[0m  ylabel\u001b[38;5;241m=\u001b[39mkey\n\u001b[1;32m      8\u001b[0m )\n",
      "Cell \u001b[0;32mIn[2], line 45\u001b[0m, in \u001b[0;36mplot_data\u001b[0;34m(steps, values, labels, title, dash, ylabel)\u001b[0m\n\u001b[1;32m     43\u001b[0m plt\u001b[38;5;241m.\u001b[39mfigure()\n\u001b[1;32m     44\u001b[0m \u001b[38;5;28;01mfor\u001b[39;00m i, value \u001b[38;5;129;01min\u001b[39;00m \u001b[38;5;28menumerate\u001b[39m(values):\n\u001b[0;32m---> 45\u001b[0m     plt\u001b[38;5;241m.\u001b[39mplot(steps, value, label\u001b[38;5;241m=\u001b[39mlabels[i])\n\u001b[1;32m     46\u001b[0m plt\u001b[38;5;241m.\u001b[39maxhline(y\u001b[38;5;241m=\u001b[39mdash, color\u001b[38;5;241m=\u001b[39m\u001b[38;5;124m'\u001b[39m\u001b[38;5;124mr\u001b[39m\u001b[38;5;124m'\u001b[39m, linestyle\u001b[38;5;241m=\u001b[39m\u001b[38;5;124m'\u001b[39m\u001b[38;5;124m--\u001b[39m\u001b[38;5;124m'\u001b[39m, label\u001b[38;5;241m=\u001b[39m\u001b[38;5;124mf\u001b[39m\u001b[38;5;124m'\u001b[39m\u001b[38;5;124mchance level=\u001b[39m\u001b[38;5;132;01m{\u001b[39;00mdash\u001b[38;5;132;01m}\u001b[39;00m\u001b[38;5;124m'\u001b[39m)\n\u001b[1;32m     47\u001b[0m plt\u001b[38;5;241m.\u001b[39mxlabel(\u001b[38;5;124m'\u001b[39m\u001b[38;5;124mSteps\u001b[39m\u001b[38;5;124m'\u001b[39m)\n",
      "File \u001b[0;32m/opt/conda/envs/torch/lib/python3.12/site-packages/matplotlib/pyplot.py:3794\u001b[0m, in \u001b[0;36mplot\u001b[0;34m(scalex, scaley, data, *args, **kwargs)\u001b[0m\n\u001b[1;32m   3786\u001b[0m \u001b[38;5;129m@_copy_docstring_and_deprecators\u001b[39m(Axes\u001b[38;5;241m.\u001b[39mplot)\n\u001b[1;32m   3787\u001b[0m \u001b[38;5;28;01mdef\u001b[39;00m \u001b[38;5;21mplot\u001b[39m(\n\u001b[1;32m   3788\u001b[0m     \u001b[38;5;241m*\u001b[39margs: \u001b[38;5;28mfloat\u001b[39m \u001b[38;5;241m|\u001b[39m ArrayLike \u001b[38;5;241m|\u001b[39m \u001b[38;5;28mstr\u001b[39m,\n\u001b[0;32m   (...)\u001b[0m\n\u001b[1;32m   3792\u001b[0m     \u001b[38;5;241m*\u001b[39m\u001b[38;5;241m*\u001b[39mkwargs,\n\u001b[1;32m   3793\u001b[0m ) \u001b[38;5;241m-\u001b[39m\u001b[38;5;241m>\u001b[39m \u001b[38;5;28mlist\u001b[39m[Line2D]:\n\u001b[0;32m-> 3794\u001b[0m     \u001b[38;5;28;01mreturn\u001b[39;00m gca()\u001b[38;5;241m.\u001b[39mplot(\n\u001b[1;32m   3795\u001b[0m         \u001b[38;5;241m*\u001b[39margs,\n\u001b[1;32m   3796\u001b[0m         scalex\u001b[38;5;241m=\u001b[39mscalex,\n\u001b[1;32m   3797\u001b[0m         scaley\u001b[38;5;241m=\u001b[39mscaley,\n\u001b[1;32m   3798\u001b[0m         \u001b[38;5;241m*\u001b[39m\u001b[38;5;241m*\u001b[39m({\u001b[38;5;124m\"\u001b[39m\u001b[38;5;124mdata\u001b[39m\u001b[38;5;124m\"\u001b[39m: data} \u001b[38;5;28;01mif\u001b[39;00m data \u001b[38;5;129;01mis\u001b[39;00m \u001b[38;5;129;01mnot\u001b[39;00m \u001b[38;5;28;01mNone\u001b[39;00m \u001b[38;5;28;01melse\u001b[39;00m {}),\n\u001b[1;32m   3799\u001b[0m         \u001b[38;5;241m*\u001b[39m\u001b[38;5;241m*\u001b[39mkwargs,\n\u001b[1;32m   3800\u001b[0m     )\n",
      "File \u001b[0;32m/opt/conda/envs/torch/lib/python3.12/site-packages/matplotlib/axes/_axes.py:1779\u001b[0m, in \u001b[0;36mAxes.plot\u001b[0;34m(self, scalex, scaley, data, *args, **kwargs)\u001b[0m\n\u001b[1;32m   1536\u001b[0m \u001b[38;5;250m\u001b[39m\u001b[38;5;124;03m\"\"\"\u001b[39;00m\n\u001b[1;32m   1537\u001b[0m \u001b[38;5;124;03mPlot y versus x as lines and/or markers.\u001b[39;00m\n\u001b[1;32m   1538\u001b[0m \n\u001b[0;32m   (...)\u001b[0m\n\u001b[1;32m   1776\u001b[0m \u001b[38;5;124;03m(``'green'``) or hex strings (``'#008000'``).\u001b[39;00m\n\u001b[1;32m   1777\u001b[0m \u001b[38;5;124;03m\"\"\"\u001b[39;00m\n\u001b[1;32m   1778\u001b[0m kwargs \u001b[38;5;241m=\u001b[39m cbook\u001b[38;5;241m.\u001b[39mnormalize_kwargs(kwargs, mlines\u001b[38;5;241m.\u001b[39mLine2D)\n\u001b[0;32m-> 1779\u001b[0m lines \u001b[38;5;241m=\u001b[39m [\u001b[38;5;241m*\u001b[39m\u001b[38;5;28mself\u001b[39m\u001b[38;5;241m.\u001b[39m_get_lines(\u001b[38;5;28mself\u001b[39m, \u001b[38;5;241m*\u001b[39margs, data\u001b[38;5;241m=\u001b[39mdata, \u001b[38;5;241m*\u001b[39m\u001b[38;5;241m*\u001b[39mkwargs)]\n\u001b[1;32m   1780\u001b[0m \u001b[38;5;28;01mfor\u001b[39;00m line \u001b[38;5;129;01min\u001b[39;00m lines:\n\u001b[1;32m   1781\u001b[0m     \u001b[38;5;28mself\u001b[39m\u001b[38;5;241m.\u001b[39madd_line(line)\n",
      "File \u001b[0;32m/opt/conda/envs/torch/lib/python3.12/site-packages/matplotlib/axes/_base.py:296\u001b[0m, in \u001b[0;36m_process_plot_var_args.__call__\u001b[0;34m(self, axes, data, *args, **kwargs)\u001b[0m\n\u001b[1;32m    294\u001b[0m     this \u001b[38;5;241m+\u001b[39m\u001b[38;5;241m=\u001b[39m args[\u001b[38;5;241m0\u001b[39m],\n\u001b[1;32m    295\u001b[0m     args \u001b[38;5;241m=\u001b[39m args[\u001b[38;5;241m1\u001b[39m:]\n\u001b[0;32m--> 296\u001b[0m \u001b[38;5;28;01myield from\u001b[39;00m \u001b[38;5;28mself\u001b[39m\u001b[38;5;241m.\u001b[39m_plot_args(\n\u001b[1;32m    297\u001b[0m     axes, this, kwargs, ambiguous_fmt_datakey\u001b[38;5;241m=\u001b[39mambiguous_fmt_datakey)\n",
      "File \u001b[0;32m/opt/conda/envs/torch/lib/python3.12/site-packages/matplotlib/axes/_base.py:486\u001b[0m, in \u001b[0;36m_process_plot_var_args._plot_args\u001b[0;34m(self, axes, tup, kwargs, return_kwargs, ambiguous_fmt_datakey)\u001b[0m\n\u001b[1;32m    483\u001b[0m     axes\u001b[38;5;241m.\u001b[39myaxis\u001b[38;5;241m.\u001b[39mupdate_units(y)\n\u001b[1;32m    485\u001b[0m \u001b[38;5;28;01mif\u001b[39;00m x\u001b[38;5;241m.\u001b[39mshape[\u001b[38;5;241m0\u001b[39m] \u001b[38;5;241m!=\u001b[39m y\u001b[38;5;241m.\u001b[39mshape[\u001b[38;5;241m0\u001b[39m]:\n\u001b[0;32m--> 486\u001b[0m     \u001b[38;5;28;01mraise\u001b[39;00m \u001b[38;5;167;01mValueError\u001b[39;00m(\u001b[38;5;124mf\u001b[39m\u001b[38;5;124m\"\u001b[39m\u001b[38;5;124mx and y must have same first dimension, but \u001b[39m\u001b[38;5;124m\"\u001b[39m\n\u001b[1;32m    487\u001b[0m                      \u001b[38;5;124mf\u001b[39m\u001b[38;5;124m\"\u001b[39m\u001b[38;5;124mhave shapes \u001b[39m\u001b[38;5;132;01m{\u001b[39;00mx\u001b[38;5;241m.\u001b[39mshape\u001b[38;5;132;01m}\u001b[39;00m\u001b[38;5;124m and \u001b[39m\u001b[38;5;132;01m{\u001b[39;00my\u001b[38;5;241m.\u001b[39mshape\u001b[38;5;132;01m}\u001b[39;00m\u001b[38;5;124m\"\u001b[39m)\n\u001b[1;32m    488\u001b[0m \u001b[38;5;28;01mif\u001b[39;00m x\u001b[38;5;241m.\u001b[39mndim \u001b[38;5;241m>\u001b[39m \u001b[38;5;241m2\u001b[39m \u001b[38;5;129;01mor\u001b[39;00m y\u001b[38;5;241m.\u001b[39mndim \u001b[38;5;241m>\u001b[39m \u001b[38;5;241m2\u001b[39m:\n\u001b[1;32m    489\u001b[0m     \u001b[38;5;28;01mraise\u001b[39;00m \u001b[38;5;167;01mValueError\u001b[39;00m(\u001b[38;5;124mf\u001b[39m\u001b[38;5;124m\"\u001b[39m\u001b[38;5;124mx and y can be no greater than 2D, but have \u001b[39m\u001b[38;5;124m\"\u001b[39m\n\u001b[1;32m    490\u001b[0m                      \u001b[38;5;124mf\u001b[39m\u001b[38;5;124m\"\u001b[39m\u001b[38;5;124mshapes \u001b[39m\u001b[38;5;132;01m{\u001b[39;00mx\u001b[38;5;241m.\u001b[39mshape\u001b[38;5;132;01m}\u001b[39;00m\u001b[38;5;124m and \u001b[39m\u001b[38;5;132;01m{\u001b[39;00my\u001b[38;5;241m.\u001b[39mshape\u001b[38;5;132;01m}\u001b[39;00m\u001b[38;5;124m\"\u001b[39m)\n",
      "\u001b[0;31mValueError\u001b[0m: x and y must have same first dimension, but have shapes (30,) and (27,)"
     ]
    },
    {
     "data": {
      "image/png": "[encoded data removed]",
      "text/plain": [
       "<Figure size 640x480 with 1 Axes>"
      ]
     },
     "metadata": {},
     "output_type": "display_data"
    }
   ],
   "source": [
    "plot_data(steps,\n",
    " [acc_1_encoder,\n",
    "  acc_1_no_encoder],\n",
    "['w/ encoder param=2.2M', 'w/o encoder param=0.1M'],\n",
    " f'channel_wise encoder (fold {fold})',\n",
    " dash=chance_level,\n",
    " ylabel=key\n",
    ")"
   ]
  },
  {
   "cell_type": "code",
   "execution_count": null,
   "metadata": {},
   "outputs": [],
   "source": []
  }
 ],
 "metadata": {
  "kernelspec": {
   "display_name": "torch",
   "language": "python",
   "name": "python3"
  },
  "language_info": {
   "codemirror_mode": {
    "name": "ipython",
    "version": 3
   },
   "file_extension": ".py",
   "mimetype": "text/x-python",
   "name": "python",
   "nbconvert_exporter": "python",
   "pygments_lexer": "ipython3",
   "version": "3.12.3"
  }
 },
 "nbformat": 4,
 "nbformat_minor": 2
}
